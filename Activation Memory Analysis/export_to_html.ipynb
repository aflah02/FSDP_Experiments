{
 "cells": [
  {
   "cell_type": "code",
   "execution_count": 3,
   "metadata": {},
   "outputs": [
    {
     "name": "stderr",
     "output_type": "stream",
     "text": [
      "[NbConvertApp] Converting notebook plot_theoretical_calcs.ipynb to html\n",
      "[NbConvertApp] Writing 318594 bytes to Exports/plot_theoretical_calcs.html\n"
     ]
    },
    {
     "data": {
      "text/plain": [
       "0"
      ]
     },
     "execution_count": 3,
     "metadata": {},
     "output_type": "execute_result"
    }
   ],
   "source": [
    "import os\n",
    "\n",
    "# os.system('jupyter nbconvert --to html plot_measurements_forward_and_backward.ipynb --output Exports/plot_measurements_forward_and_backward.html')\n",
    "\n",
    "# os.system('jupyter nbconvert --to html plot_measurements_forward_only.ipynb --output Exports/plot_measurements_forward_only.html')\n",
    "\n",
    "# os.system('jupyter nbconvert --to html plot_theoretical_calcs.ipynb --output Exports/plot_theoretical_calcs.html')"
   ]
  },
  {
   "cell_type": "code",
   "execution_count": null,
   "metadata": {},
   "outputs": [],
   "source": [
    "# To view, run python -m http.server 10001 in the directory of the html file and open the browser to http://localhost:10001"
   ]
  }
 ],
 "metadata": {
  "kernelspec": {
   "display_name": "ragenv",
   "language": "python",
   "name": "python3"
  },
  "language_info": {
   "codemirror_mode": {
    "name": "ipython",
    "version": 3
   },
   "file_extension": ".py",
   "mimetype": "text/x-python",
   "name": "python",
   "nbconvert_exporter": "python",
   "pygments_lexer": "ipython3",
   "version": "3.10.14"
  }
 },
 "nbformat": 4,
 "nbformat_minor": 2
}
