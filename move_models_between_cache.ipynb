{
 "cells": [
  {
   "cell_type": "code",
   "execution_count": 1,
   "metadata": {},
   "outputs": [],
   "source": [
    "import os"
   ]
  },
  {
   "cell_type": "code",
   "execution_count": 4,
   "metadata": {},
   "outputs": [],
   "source": [
    "curr_path = '/NS/llm-1/nobackup/afkhan/Model_Saves'\n",
    "new_path = '/NS/llm-1/nobackup/shared/huggingface_cache/hub/'"
   ]
  },
  {
   "cell_type": "code",
   "execution_count": 3,
   "metadata": {},
   "outputs": [
    {
     "data": {
      "text/plain": [
       "['bigscience--bloom-3b',\n",
       " '01-ai--Yi-9B-200K',\n",
       " 'mistralai--Mistral-7B-Instruct-v0.3',\n",
       " 'teknium--OpenHermes-2.5-Mistral-7B',\n",
       " 'tiiuae--falcon-180B',\n",
       " 'falcon-7b-ctranslate2-compatible',\n",
       " 'lmsys--vicuna-7b-v1.3',\n",
       " 'facebook--opt-66b',\n",
       " 'mistral-community--mixtral-8x22B-v0.3',\n",
       " 'mistral-community--Mistral-7B-v0.2',\n",
       " 'bigscience--bloom',\n",
       " 'openchat_3.5-16k',\n",
       " 'Nous-Capybara-34B',\n",
       " 'llava-v1.5-7b-lora',\n",
       " 'dolphin-2.6-mixtral-8x7b',\n",
       " 'NousResearch--Genstruct-7B',\n",
       " 'LLM360--CrystalCoder',\n",
       " 'LLM360--AmberSafe',\n",
       " 'Yi-VL-34B',\n",
       " 'internlm-xcomposer2-vl-7b',\n",
       " 'lmsys--vicuna-13b-v1.3',\n",
       " 'tiiuae--falcon-7b-instruct',\n",
       " 'tiiuae--falcon-40b-instruct',\n",
       " 'mosaicml--mpt-7b',\n",
       " 'Qwen2-72B',\n",
       " '01-ai--Yi-6B-Chat',\n",
       " 'mistralai--Mixtral-8x22B-Instruct-v0.1',\n",
       " 'cogvlm-chat-hf',\n",
       " 'NousResearch--Nous-Hermes-2-Mixtral-8x7B-DPO',\n",
       " 'llava-v1.5-13b',\n",
       " 'Qwen2-7B-Instruct',\n",
       " 'bigscience--bloom-560m',\n",
       " 'bigscience--bloom-1b1',\n",
       " 'llava-v1.5-13b-lora',\n",
       " '01-ai--Yi-6B-200K',\n",
       " 'LLM360--CrystalChat',\n",
       " 'BAAI--bge-base-en-v1.5',\n",
       " '01-ai--Yi-34B-200K',\n",
       " 'openchat--openchat-3.5-0106',\n",
       " 'llava-v1.6-vicuna-13b',\n",
       " 'Yi-VL-6B',\n",
       " 'Qwen2-57B-A14B',\n",
       " 'tatsu-lab--alpaca-7b-wdiff',\n",
       " 'Qwen2-7B',\n",
       " 'chameleon',\n",
       " 'LLM360--K2',\n",
       " 'c4ai-command-r-plus-4bit',\n",
       " 'llava-v1.5-7b',\n",
       " 'NousResearch--Nous-Hermes-2-Mixtral-8x7B-SFT',\n",
       " 'aya-23-35B',\n",
       " '01-ai--Yi-34B-Chat',\n",
       " 'MGM-7B',\n",
       " 'LLM360--AmberChat',\n",
       " 'lmsys--vicuna-7b-v1.5',\n",
       " 'mistralai--Mistral-7B-Instruct-v0.2',\n",
       " 'databricks--dbrx-instruct',\n",
       " 'cogvlm2-llama3-chat-19B',\n",
       " 'georgesung--llama2_7b_chat_uncensored',\n",
       " 'c4ai-command-r-v01',\n",
       " 'Qwen2-57B-A14B-Instruct',\n",
       " 'deepseek-vl-7b-chat',\n",
       " '01-ai--Yi-34B',\n",
       " 'LLM360--Amber',\n",
       " 'c4ai-command-r-plus',\n",
       " 'llava-v1.6-34b',\n",
       " 'llava-v1.6-mistral-7b',\n",
       " 'c4ai-command-r-v01-4bit',\n",
       " 'lmsys--vicuna-13b-v1.5',\n",
       " '01-ai--Yi-9B',\n",
       " 'llava-v1.6-vicuna-7b',\n",
       " 'aya-23-8B',\n",
       " 'Qwen-VL-Chat',\n",
       " 'InternVL-Chat-V1-5',\n",
       " 'NousResearch--Hermes-2-Pro-Mistral-7B',\n",
       " 'Qwen2-72B-Instruct',\n",
       " 'mistralai--Mixtral-8x7B-v0.1',\n",
       " '01-ai--Yi-6B',\n",
       " 'tiiuae--falcon-40b',\n",
       " 'mistralai--Mixtral-8x7B-Instruct-v0.1',\n",
       " 'microsoft--phi-2',\n",
       " 'bigscience--bloom-1b7',\n",
       " 'bigscience--bloom-7b1',\n",
       " 'aya-101',\n",
       " 'mistralai--Mistral-7B-v0.3']"
      ]
     },
     "execution_count": 3,
     "metadata": {},
     "output_type": "execute_result"
    }
   ],
   "source": [
    "os.listdir(curr_path)"
   ]
  },
  {
   "cell_type": "code",
   "execution_count": 8,
   "metadata": {},
   "outputs": [
    {
     "name": "stdout",
     "output_type": "stream",
     "text": [
      "['bigscience--bloom-3b']\n"
     ]
    }
   ],
   "source": [
    "to_move = list(os.listdir(curr_path))[:1]\n",
    "print(to_move)"
   ]
  },
  {
   "cell_type": "code",
   "execution_count": 9,
   "metadata": {},
   "outputs": [
    {
     "name": "stdout",
     "output_type": "stream",
     "text": [
      "bigscience--bloom-3b\n",
      "/NS/llm-1/nobackup/afkhan/Model_Saves/bigscience--bloom-3b\n",
      "/NS/llm-1/nobackup/shared/huggingface_cache/hub/bigscience--bloom-3b\n"
     ]
    },
    {
     "ename": "PermissionError",
     "evalue": "[Errno 13] Permission denied: '/NS/llm-1/nobackup/afkhan/Model_Saves/bigscience--bloom-3b' -> '/NS/llm-1/nobackup/shared/huggingface_cache/hub/bigscience--bloom-3b'",
     "output_type": "error",
     "traceback": [
      "\u001b[0;31m---------------------------------------------------------------------------\u001b[0m",
      "\u001b[0;31mPermissionError\u001b[0m                           Traceback (most recent call last)",
      "Cell \u001b[0;32mIn[9], line 6\u001b[0m\n\u001b[1;32m      4\u001b[0m \u001b[38;5;28mprint\u001b[39m(os\u001b[38;5;241m.\u001b[39mpath\u001b[38;5;241m.\u001b[39mjoin(curr_path, file))\n\u001b[1;32m      5\u001b[0m \u001b[38;5;28mprint\u001b[39m(os\u001b[38;5;241m.\u001b[39mpath\u001b[38;5;241m.\u001b[39mjoin(new_path,file))\n\u001b[0;32m----> 6\u001b[0m \u001b[43mos\u001b[49m\u001b[38;5;241;43m.\u001b[39;49m\u001b[43mrename\u001b[49m\u001b[43m(\u001b[49m\u001b[43mos\u001b[49m\u001b[38;5;241;43m.\u001b[39;49m\u001b[43mpath\u001b[49m\u001b[38;5;241;43m.\u001b[39;49m\u001b[43mjoin\u001b[49m\u001b[43m(\u001b[49m\u001b[43mcurr_path\u001b[49m\u001b[43m,\u001b[49m\u001b[43m \u001b[49m\u001b[43mfile\u001b[49m\u001b[43m)\u001b[49m\u001b[43m,\u001b[49m\u001b[43m \u001b[49m\u001b[43mos\u001b[49m\u001b[38;5;241;43m.\u001b[39;49m\u001b[43mpath\u001b[49m\u001b[38;5;241;43m.\u001b[39;49m\u001b[43mjoin\u001b[49m\u001b[43m(\u001b[49m\u001b[43mnew_path\u001b[49m\u001b[43m,\u001b[49m\u001b[43mfile\u001b[49m\u001b[43m)\u001b[49m\u001b[43m)\u001b[49m\n\u001b[1;32m      7\u001b[0m \u001b[38;5;28mprint\u001b[39m(\u001b[38;5;124mf\u001b[39m\u001b[38;5;124m\"\u001b[39m\u001b[38;5;124mMoved \u001b[39m\u001b[38;5;132;01m{\u001b[39;00mfile\u001b[38;5;132;01m}\u001b[39;00m\u001b[38;5;124m to \u001b[39m\u001b[38;5;132;01m{\u001b[39;00mnew_path\u001b[38;5;132;01m}\u001b[39;00m\u001b[38;5;124m\"\u001b[39m)\n",
      "\u001b[0;31mPermissionError\u001b[0m: [Errno 13] Permission denied: '/NS/llm-1/nobackup/afkhan/Model_Saves/bigscience--bloom-3b' -> '/NS/llm-1/nobackup/shared/huggingface_cache/hub/bigscience--bloom-3b'"
     ]
    }
   ],
   "source": [
    "# move all files from curr_path to new_path\n",
    "for file in to_move:\n",
    "    print(file)\n",
    "    print(os.path.join(curr_path, file))\n",
    "    print(os.path.join(new_path,file))\n",
    "    os.rename(os.path.join(curr_path, file), os.path.join(new_path,file))\n",
    "    print(f\"Moved {file} to {new_path}\")"
   ]
  },
  {
   "cell_type": "code",
   "execution_count": 7,
   "metadata": {},
   "outputs": [
    {
     "data": {
      "text/plain": [
       "['models--microsoft--phi-1',\n",
       " 'models--microsoft--phi-1_5',\n",
       " 'models--gpt2-xl',\n",
       " 'models--microsoft--phi-2',\n",
       " 'models--google--gemma-2-9b-it',\n",
       " 'models--gpt2-medium',\n",
       " 'models--EleutherAI--pythia-2.8b',\n",
       " 'models--distilgpt2',\n",
       " '.locks',\n",
       " 'models--EleutherAI--pythia-1.4b',\n",
       " 'models--BAAI--bge-m3',\n",
       " 'models--EleutherAI--pythia-1b',\n",
       " 'models--gpt2',\n",
       " 'models--gpt2-large',\n",
       " 'version.txt',\n",
       " 'models--google--gemma-2-9b',\n",
       " 'tmpw8ri5m51',\n",
       " 'models--EleutherAI--pythia-1b-deduped',\n",
       " 'models--opt-350m',\n",
       " 'modules',\n",
       " 'models--EleutherAI--pythia-70m',\n",
       " 'models--microsoft--Phi-3-mini-4k-instruct',\n",
       " 'models--facebook--opt-350m']"
      ]
     },
     "execution_count": 7,
     "metadata": {},
     "output_type": "execute_result"
    }
   ],
   "source": [
    "os.listdir(new_path)"
   ]
  },
  {
   "cell_type": "code",
   "execution_count": null,
   "metadata": {},
   "outputs": [],
   "source": []
  }
 ],
 "metadata": {
  "kernelspec": {
   "display_name": "ragenv",
   "language": "python",
   "name": "python3"
  },
  "language_info": {
   "codemirror_mode": {
    "name": "ipython",
    "version": 3
   },
   "file_extension": ".py",
   "mimetype": "text/x-python",
   "name": "python",
   "nbconvert_exporter": "python",
   "pygments_lexer": "ipython3",
   "version": "3.10.14"
  }
 },
 "nbformat": 4,
 "nbformat_minor": 2
}
